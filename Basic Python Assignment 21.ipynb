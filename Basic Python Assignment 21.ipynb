{
 "cells": [
  {
   "cell_type": "code",
   "execution_count": 9,
   "metadata": {},
   "outputs": [
    {
     "name": "stdout",
     "output_type": "stream",
     "text": [
      "The current date today is : \n",
      "2022-01-10 18:12:42.776135\n",
      "<_io.TextIOWrapper name='today.txt' mode='w' encoding='cp1252'>\n"
     ]
    }
   ],
   "source": [
    "#1. Add the current date to the text file today.txt as a string.\n",
    "import datetime\n",
    "dt = datetime.datetime.now()\n",
    "print ('The current date today is : ')\n",
    "print(str(dt))\n",
    "file =  open('today.txt','w')\n",
    "file.write(str(dt))\n",
    "print(str(file))\n",
    "file.close()"
   ]
  },
  {
   "cell_type": "code",
   "execution_count": 13,
   "metadata": {},
   "outputs": [
    {
     "name": "stdout",
     "output_type": "stream",
     "text": [
      "<_io.TextIOWrapper name='today.txt' mode='r' encoding='cp1252'>\n"
     ]
    }
   ],
   "source": [
    "#2. Read the text file today.txt into the string today_string\n",
    "today_string = open('today.txt','r')\n",
    "print(str(today_string))\n",
    "today_string.close()"
   ]
  },
  {
   "cell_type": "code",
   "execution_count": 37,
   "metadata": {},
   "outputs": [
    {
     "name": "stdout",
     "output_type": "stream",
     "text": [
      "2022-01-10 00:00:00\n"
     ]
    }
   ],
   "source": [
    "#3. Parse the date from today_string.\n",
    "import re\n",
    "import datetime\n",
    "\n",
    "def parse_date(date_string):\n",
    "    \"\"\"\n",
    "    Return a datetime object from a string in the format\n",
    "    'YYYY-MM-DD'\n",
    "    \"\"\"\n",
    "    regex = r'\\d{4}-\\d{2}-\\d{2}'\n",
    "    match = re.search(regex, date_string)\n",
    "    if match:\n",
    "        return datetime.datetime.strptime(match.group(), '%Y-%m-%d')\n",
    "    else:\n",
    "        return None\n",
    "    \n",
    "def main():\n",
    "    date_string = '2022-01-10'\n",
    "    print(parse_date(date_string))\n",
    "    \n",
    "if __name__ == '__main__':\n",
    "    main()"
   ]
  },
  {
   "cell_type": "code",
   "execution_count": 16,
   "metadata": {},
   "outputs": [
    {
     "data": {
      "text/plain": [
       "['.ipynb_checkpoints',\n",
       " '07 January 2022.txt',\n",
       " '2022-01-07-20-11-56_myfile.txt',\n",
       " '2022-01-10-15-41-08_myfile.txt',\n",
       " '20220107201250_foo.txt',\n",
       " 'Assignment_1.docx',\n",
       " 'Assignment_12.docx',\n",
       " 'Assignment_13.docx',\n",
       " 'Assignment_14.docx',\n",
       " 'Assignment_15.docx',\n",
       " 'Assignment_16.docx',\n",
       " 'Assignment_17.docx',\n",
       " 'Assignment_18.docx',\n",
       " 'Assignment_19.docx',\n",
       " 'Assignment_2.docx',\n",
       " 'Assignment_20.docx',\n",
       " 'Assignment_21.docx',\n",
       " 'Assignment_3.docx',\n",
       " 'Assignment_4.docx',\n",
       " 'Assignment_5.docx',\n",
       " 'Assignment_6.docx',\n",
       " 'Assignment_8.docx',\n",
       " 'Assignment_9.docx',\n",
       " 'Basic Python Assignment 10.ipynb',\n",
       " 'Basic Python Assignment 11.ipynb',\n",
       " 'Basic Python Assignment 12.ipynb',\n",
       " 'Basic Python Assignment 13.ipynb',\n",
       " 'Basic Python Assignment 14.ipynb',\n",
       " 'Basic Python Assignment 15.ipynb',\n",
       " 'Basic Python Assignment 16.ipynb',\n",
       " 'Basic Python Assignment 17.ipynb',\n",
       " 'Basic Python Assignment 18.ipynb',\n",
       " 'Basic Python Assignment 19.ipynb',\n",
       " 'Basic python assignment 2.docx',\n",
       " 'Basic Python Assignment 2.ipynb',\n",
       " 'Basic Python Assignment 20.ipynb',\n",
       " 'Basic Python Assignment 21.ipynb',\n",
       " 'Basic Python assignment 3.docx',\n",
       " 'Basic Python Assignment 4.docx',\n",
       " 'Basic Python Assignment 4.ipynb',\n",
       " 'Basic python assignment 5.ipynb',\n",
       " 'Basic Python Assignment 6.ipynb',\n",
       " 'Basic Python Assignment 9.ipynb',\n",
       " 'Basic Python Assignment_5.docx',\n",
       " 'books.db',\n",
       " 'books1.csv',\n",
       " 'python basic 1.docx',\n",
       " 'python basic assignment 1.ipynb',\n",
       " 'Python Basic Assignment 8.ipynb',\n",
       " 'test.txt',\n",
       " 'today.txt',\n",
       " 'Untitled16.ipynb',\n",
       " 'zoo.py',\n",
       " '__pycache__']"
      ]
     },
     "execution_count": 16,
     "metadata": {},
     "output_type": "execute_result"
    }
   ],
   "source": [
    "#4. List the files in your current directory\n",
    "import os\n",
    "curr_dir = os.listdir()\n",
    "curr_dir"
   ]
  },
  {
   "cell_type": "code",
   "execution_count": 17,
   "metadata": {},
   "outputs": [
    {
     "data": {
      "text/plain": [
       "['.ipynb_checkpoints',\n",
       " '07 January 2022.txt',\n",
       " '2022-01-07-20-11-56_myfile.txt',\n",
       " '2022-01-10-15-41-08_myfile.txt',\n",
       " '20220107201250_foo.txt',\n",
       " 'Assignment_1.docx',\n",
       " 'Assignment_12.docx',\n",
       " 'Assignment_13.docx',\n",
       " 'Assignment_14.docx',\n",
       " 'Assignment_15.docx',\n",
       " 'Assignment_16.docx',\n",
       " 'Assignment_17.docx',\n",
       " 'Assignment_18.docx',\n",
       " 'Assignment_19.docx',\n",
       " 'Assignment_2.docx',\n",
       " 'Assignment_20.docx',\n",
       " 'Assignment_21.docx',\n",
       " 'Assignment_3.docx',\n",
       " 'Assignment_4.docx',\n",
       " 'Assignment_5.docx',\n",
       " 'Assignment_6.docx',\n",
       " 'Assignment_8.docx',\n",
       " 'Assignment_9.docx',\n",
       " 'Basic Python Assignment 10.ipynb',\n",
       " 'Basic Python Assignment 11.ipynb',\n",
       " 'Basic Python Assignment 12.ipynb',\n",
       " 'Basic Python Assignment 13.ipynb',\n",
       " 'Basic Python Assignment 14.ipynb',\n",
       " 'Basic Python Assignment 15.ipynb',\n",
       " 'Basic Python Assignment 16.ipynb',\n",
       " 'Basic Python Assignment 17.ipynb',\n",
       " 'Basic Python Assignment 18.ipynb',\n",
       " 'Basic Python Assignment 19.ipynb',\n",
       " 'Basic python assignment 2.docx',\n",
       " 'Basic Python Assignment 2.ipynb',\n",
       " 'Basic Python Assignment 20.ipynb',\n",
       " 'Basic Python Assignment 21.ipynb',\n",
       " 'Basic Python assignment 3.docx',\n",
       " 'Basic Python Assignment 4.docx',\n",
       " 'Basic Python Assignment 4.ipynb',\n",
       " 'Basic python assignment 5.ipynb',\n",
       " 'Basic Python Assignment 6.ipynb',\n",
       " 'Basic Python Assignment 9.ipynb',\n",
       " 'Basic Python Assignment_5.docx',\n",
       " 'books.db',\n",
       " 'books1.csv',\n",
       " 'python basic 1.docx',\n",
       " 'python basic assignment 1.ipynb',\n",
       " 'Python Basic Assignment 8.ipynb',\n",
       " 'test.txt',\n",
       " 'today.txt',\n",
       " 'Untitled16.ipynb',\n",
       " 'zoo.py',\n",
       " '__pycache__']"
      ]
     },
     "execution_count": 17,
     "metadata": {},
     "output_type": "execute_result"
    }
   ],
   "source": [
    "#5. Create a list of all of the files in your parent directory (minimum five files should be available).\n",
    "import os\n",
    "par_dir = os.listdir()\n",
    "par_dir"
   ]
  },
  {
   "cell_type": "code",
   "execution_count": 26,
   "metadata": {},
   "outputs": [
    {
     "name": "stdout",
     "output_type": "stream",
     "text": [
      "Started worker Jayesh\n",
      "Jayesh worker finished in 3 seconds\n"
     ]
    }
   ],
   "source": [
    "#6. Use multiprocessing to create three separate processes. Make each one wait a random number of seconds between one and five, print the current time, and then exit.\n",
    "import multiprocessing\n",
    "import random\n",
    "import time\n",
    "def worker(name: str) -> None:\n",
    "    print(f'Started worker {name}')\n",
    "    worker_time = random.choice(range(1, 5))\n",
    "    time.sleep(worker_time)\n",
    "    print(f'{name} worker finished in {worker_time} seconds')\n",
    "if __name__ == '__main__':\n",
    "    processes = []\n",
    "    for i in range(5):\n",
    "        process = multiprocessing.Process(target=worker, args=(f'worker{i}',))\n",
    "\n",
    "        processes.append(process)\n",
    "        process.start()\n",
    "        \n",
    "    for proc in processes:\n",
    "        proc.join()\n",
    "        \n",
    "worker('Jayesh')"
   ]
  },
  {
   "cell_type": "code",
   "execution_count": 27,
   "metadata": {},
   "outputs": [
    {
     "name": "stdout",
     "output_type": "stream",
     "text": [
      "Day:24\n",
      "Month:04\n",
      "Year:1992\n"
     ]
    }
   ],
   "source": [
    "#7. Create a date object of your day of birth.\n",
    "import datetime\n",
    "import calendar\n",
    "date = '24/04/1992'\n",
    "\n",
    "first_step,last_step = date.find('/'), date.rfind('/')\n",
    "\n",
    "day = date[:first_step]\n",
    "month = date[first_step+1:last_step]\n",
    "year = date[last_step+1:]\n",
    "\n",
    "print(f'Day:{day}')\n",
    "print(f'Month:{month}')\n",
    "print(f'Year:{year}')"
   ]
  },
  {
   "cell_type": "code",
   "execution_count": 50,
   "metadata": {},
   "outputs": [
    {
     "name": "stdout",
     "output_type": "stream",
     "text": [
      "Friday\n"
     ]
    }
   ],
   "source": [
    "#8. What day of the week was your day of birth?\n",
    "\n",
    "import datetime\n",
    "import calendar\n",
    "\n",
    "def findDay(date):\n",
    "    born = datetime.datetime.strptime(date, '%d %m %Y').weekday()\n",
    "    return (calendar.day_name[born])\n",
    "\n",
    "# Driver program\n",
    "date = '24 04 1992'\n",
    "print(findDay(date))\n"
   ]
  },
  {
   "cell_type": "code",
   "execution_count": 15,
   "metadata": {},
   "outputs": [
    {
     "data": {
      "text/plain": [
       "27"
      ]
     },
     "execution_count": 15,
     "metadata": {},
     "output_type": "execute_result"
    }
   ],
   "source": [
    "#9. When will you be (or when were you) 10,000 days old?\n",
    "days = 10000\n",
    "def age_in_days(days):\n",
    "    age_in_days = days // 365\n",
    "    return age_in_days\n",
    "age_in_days(days)"
   ]
  },
  {
   "cell_type": "code",
   "execution_count": null,
   "metadata": {},
   "outputs": [],
   "source": []
  },
  {
   "cell_type": "code",
   "execution_count": null,
   "metadata": {},
   "outputs": [],
   "source": []
  }
 ],
 "metadata": {
  "kernelspec": {
   "display_name": "Python 3",
   "language": "python",
   "name": "python3"
  },
  "language_info": {
   "codemirror_mode": {
    "name": "ipython",
    "version": 3
   },
   "file_extension": ".py",
   "mimetype": "text/x-python",
   "name": "python",
   "nbconvert_exporter": "python",
   "pygments_lexer": "ipython3",
   "version": "3.8.5"
  }
 },
 "nbformat": 4,
 "nbformat_minor": 4
}
